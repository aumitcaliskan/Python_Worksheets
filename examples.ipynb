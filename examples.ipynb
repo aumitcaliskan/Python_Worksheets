{
 "cells": [
  {
   "cell_type": "markdown",
   "id": "a013dbdf",
   "metadata": {},
   "source": [
    "### Soru1"
   ]
  },
  {
   "cell_type": "code",
   "execution_count": 1,
   "id": "0645a34d",
   "metadata": {},
   "outputs": [],
   "source": [
    "'''\n",
    "    Bir metin içerisindeki belirttiğimiz harfi saydıralım.\n",
    "'''"
   ]
  },
  {
   "cell_type": "code",
   "execution_count": 5,
   "id": "8ba89891",
   "metadata": {},
   "outputs": [
    {
     "data": {
      "text/plain": [
       "3"
      ]
     },
     "execution_count": 5,
     "metadata": {},
     "output_type": "execute_result"
    }
   ],
   "source": [
    "text = 'Ahmet umit caliskan'\n",
    "aranacakHarf = \"a\"\n",
    "text.lower().count(aranacakHarf.lower())"
   ]
  },
  {
   "cell_type": "code",
   "execution_count": 7,
   "id": "bb0a85a1",
   "metadata": {},
   "outputs": [
    {
     "data": {
      "text/plain": [
       "7"
      ]
     },
     "execution_count": 7,
     "metadata": {},
     "output_type": "execute_result"
    }
   ],
   "source": [
    "\"merhaba\".__len__()\n",
    "# magic function\n",
    "len(\"merhaba\")"
   ]
  },
  {
   "cell_type": "code",
   "execution_count": 8,
   "id": "3aec2b5a-3231-4233-a22c-87454b8d4760",
   "metadata": {},
   "outputs": [
    {
     "data": {
      "text/plain": [
       "'merhaba'"
      ]
     },
     "execution_count": 8,
     "metadata": {},
     "output_type": "execute_result"
    }
   ],
   "source": [
    "str.lower(\"MErhaba\")\n",
    "\"merhaBA\".lower()"
   ]
  },
  {
   "cell_type": "markdown",
   "id": "f9668c8b",
   "metadata": {
    "tags": []
   },
   "source": [
    "### Soru2"
   ]
  },
  {
   "cell_type": "code",
   "execution_count": 14,
   "id": "4b1343b7",
   "metadata": {},
   "outputs": [],
   "source": [
    "'''\n",
    "    Belirtilen sayılardan 3'e tam bölünenlerin adedini, toplamını ve sayıların kendisini döndüren bir fonksiyon yazalım.\n",
    "'''\n",
    "\n",
    "def fnk_topla_say(*sayilar):\n",
    "    \"\"\"\n",
    "        Birden fazla sayı alır ve 3'e tam bölünenleri getirir.\n",
    "        \n",
    "        Parametreler:\n",
    "        *sayılar: birden fazla değer alır.\n",
    "        return: dict nesnesi döner.\n",
    "    \"\"\"\n",
    "    \n",
    "    tamBolunenler = []\n",
    "        \n",
    "    #1.\n",
    "    \"\"\"\n",
    "      \n",
    "    for s in sayilar:\n",
    "        if s%3 == 0:\n",
    "            tamBolunenler.append(s) # ne görürse onu ekler\n",
    "    \"\"\"\n",
    "    #2.\n",
    "    tamBolunenler = [s for s in sayilar if s%3==0]\n",
    "    \n",
    "    return {\n",
    "        \"Toplam\": sum(tamBolunenler),\n",
    "        \"Adet\": len(tamBolunenler),\n",
    "        \"Tam bölünenler\": set(tamBolunenler)\n",
    "    }"
   ]
  },
  {
   "cell_type": "code",
   "execution_count": 15,
   "id": "aab9d2db",
   "metadata": {},
   "outputs": [],
   "source": [
    "sonuc = fnk_topla_say(1,23,5,7,9, 12, 30)"
   ]
  },
  {
   "cell_type": "code",
   "execution_count": 16,
   "id": "c2258d0e",
   "metadata": {},
   "outputs": [
    {
     "data": {
      "text/plain": [
       "51"
      ]
     },
     "execution_count": 16,
     "metadata": {},
     "output_type": "execute_result"
    }
   ],
   "source": [
    "sonuc['Toplam']"
   ]
  },
  {
   "cell_type": "code",
   "execution_count": 20,
   "id": "c79ba29f",
   "metadata": {},
   "outputs": [
    {
     "ename": "AttributeError",
     "evalue": "'NoneType' object has no attribute 'get'",
     "output_type": "error",
     "traceback": [
      "\u001b[1;31m---------------------------------------------------------------------------\u001b[0m",
      "\u001b[1;31mAttributeError\u001b[0m                            Traceback (most recent call last)",
      "\u001b[1;32m~\\AppData\\Local\\Temp/ipykernel_11048/265390451.py\u001b[0m in \u001b[0;36m<module>\u001b[1;34m\u001b[0m\n\u001b[0;32m      1\u001b[0m \u001b[1;31m#sonuc[\"olmayanKey\"] #key yoksa hata verir.\u001b[0m\u001b[1;33m\u001b[0m\u001b[1;33m\u001b[0m\u001b[1;33m\u001b[0m\u001b[0m\n\u001b[1;32m----> 2\u001b[1;33m \u001b[0mtype\u001b[0m\u001b[1;33m(\u001b[0m\u001b[0msonuc\u001b[0m\u001b[1;33m.\u001b[0m\u001b[0mget\u001b[0m\u001b[1;33m(\u001b[0m\u001b[1;34m\"olmayanKey\"\u001b[0m\u001b[1;33m)\u001b[0m\u001b[1;33m)\u001b[0m \u001b[1;31m#varsa gelir yoksa None döner.\u001b[0m\u001b[1;33m\u001b[0m\u001b[1;33m\u001b[0m\u001b[0m\n\u001b[0m",
      "\u001b[1;31mAttributeError\u001b[0m: 'NoneType' object has no attribute 'get'"
     ]
    }
   ],
   "source": [
    "#sonuc[\"olmayanKey\"] #key yoksa hata verir.\n",
    "type(sonuc.get(\"olmayanKey\")) #varsa gelir yoksa None döner."
   ]
  },
  {
   "cell_type": "code",
   "execution_count": 24,
   "id": "4870140c",
   "metadata": {},
   "outputs": [
    {
     "name": "stdout",
     "output_type": "stream",
     "text": [
      "Help on function fnk_topla_say in module __main__:\n",
      "\n",
      "fnk_topla_say(*sayilar)\n",
      "    Birden fazla sayı alır ve 3'e tam bölünenleri getirir.\n",
      "    \n",
      "    Parametreler:\n",
      "    *sayılar: birden fazla değer alır.\n",
      "    return: dict nesnesi döner.\n",
      "\n",
      "Help on function fnk_topla_say in module __main__:\n",
      "\n",
      "fnk_topla_say(*sayilar)\n",
      "        Birden fazla sayı alır ve 3'e tam bölünenleri getirir.\n",
      "        \n",
      "        Parametreler:\n",
      "        *sayılar: birden fazla değer alır.\n",
      "        return: dict nesnesi döner.\n",
      "    Bu sonradan eklendi.\n",
      "\n"
     ]
    }
   ],
   "source": [
    "help(fnk_topla_say)\n",
    "fnk_topla_say.__doc__+= \"Bu sonradan eklendi.\"\n",
    "help(fnk_topla_say)"
   ]
  },
  {
   "cell_type": "code",
   "execution_count": 21,
   "id": "acee4ed8",
   "metadata": {},
   "outputs": [],
   "source": [
    "'''\n",
    "    *sayilar : sınırsız sayıda değer alır\n",
    "    **parametre: sınırsız sayida key:value alır.\n",
    "'''\n",
    "def fnk_sinirsizlar(*sinirsiz, **sinirsizKeyValue):\n",
    "    print(f\"sinirsiz: {sinirsiz}\")\n",
    "    print(f\"sinirsiz key value: {sinirsizKeyValue}\")"
   ]
  },
  {
   "cell_type": "code",
   "execution_count": 18,
   "id": "eed26bfe",
   "metadata": {},
   "outputs": [
    {
     "name": "stdout",
     "output_type": "stream",
     "text": [
      "sinirsiz: (1, 2, 3, 4)\n",
      "sinirsiz key value: {'yas': 32}\n"
     ]
    }
   ],
   "source": [
    "sonuc = fnk_sinirsizlar(1,2,3,4,yas=32)"
   ]
  },
  {
   "cell_type": "markdown",
   "id": "c064440b",
   "metadata": {},
   "source": [
    "### Soru3"
   ]
  },
  {
   "cell_type": "code",
   "execution_count": 23,
   "id": "63800438",
   "metadata": {},
   "outputs": [
    {
     "data": {
      "text/plain": [
       "False"
      ]
     },
     "execution_count": 23,
     "metadata": {},
     "output_type": "execute_result"
    }
   ],
   "source": [
    "\"2021\".isdigit() #pozitif tam sayı mı?\n",
    "\n",
    "#karakter bazlı bakar\n",
    "\"2021\".isnumeric() #numeric midir?\n",
    "\"2021\".isalpha()  #alfabedeki harflerden mi oluşuyor."
   ]
  },
  {
   "cell_type": "code",
   "execution_count": 22,
   "id": "d03f251e",
   "metadata": {},
   "outputs": [
    {
     "data": {
      "text/plain": [
       "'~~~~~~~~~~~~50.27~~~~~~~~~~~~~'"
      ]
     },
     "execution_count": 22,
     "metadata": {},
     "output_type": "execute_result"
    }
   ],
   "source": [
    "'''\n",
    "    Dışarıdan yarıçapı girilen dairenin alanını hesaplayan bir fonksiyon yazalım.\n",
    "    hata kontrollerini de yapalım.\n",
    "    Dairenin Alanı = pi * r^2\n",
    "'''\n",
    "\n",
    "import math\n",
    "\n",
    "def fnk_alan_hesapla(r):\n",
    "    alan = 0\n",
    "    \n",
    "    try:\n",
    "        r = float(r)\n",
    "        \n",
    "    except Exception as ex:\n",
    "        print(\"Bir  hata ilekarşılaşıldı\")\n",
    "        print(\"System Message:\", ex)\n",
    "        alan = \"Hata !\"\n",
    "        \n",
    "    else:\n",
    "        alan = math.pi * math.pow(r,2) # pow, r**2\n",
    "        \n",
    "    return alan\n",
    "\n",
    "fnk_alan_hesapla(4)\n",
    "\n",
    "round(fnk_alan_hesapla(4),2)\n",
    "format(fnk_alan_hesapla(4), \"~^30.2f\") \n",
    "# virgülden sonra 2 basamak gösterir. ~^30 ile 30 karakter içerisine ortalıyoruz. Boşluklara ~koyduk.\n",
    "f\"{fnk_alan_hesapla(4):~^30.2f}\""
   ]
  },
  {
   "cell_type": "markdown",
   "id": "7c8a0175",
   "metadata": {},
   "source": [
    "### Soru4"
   ]
  },
  {
   "cell_type": "code",
   "execution_count": 33,
   "id": "5af951bb",
   "metadata": {},
   "outputs": [
    {
     "data": {
      "text/plain": [
       "('Istanbul', 'lubnatsI')"
      ]
     },
     "execution_count": 33,
     "metadata": {},
     "output_type": "execute_result"
    }
   ],
   "source": [
    "'''\n",
    "    Verilen metni alfabe dışındaki karekterlerden temizleyelim. Metni düz ve tersten veren bir fonksiyon yazalım\n",
    "'''\n",
    "\n",
    "def fnk_temizle(metin):\n",
    "    temizMetin = ''\n",
    "    \n",
    "    for m in metin:\n",
    "        if m.isalpha():\n",
    "            temizMetin += m\n",
    "    return temizMetin, temizMetin[::-1] # start, stop, step --> tuple\n",
    "\n",
    "fnk_temizle(\"I12?stan456.bu0l\")"
   ]
  },
  {
   "cell_type": "code",
   "execution_count": 85,
   "id": "dae80f00",
   "metadata": {},
   "outputs": [],
   "source": [
    "# unpacking\n",
    "\n",
    "duz, ters = fnk_temizle(\"I12?stan456.bu0l\")"
   ]
  },
  {
   "cell_type": "code",
   "execution_count": 86,
   "id": "d2d26f8a",
   "metadata": {},
   "outputs": [
    {
     "data": {
      "text/plain": [
       "'Istanbul'"
      ]
     },
     "execution_count": 86,
     "metadata": {},
     "output_type": "execute_result"
    }
   ],
   "source": [
    "duz"
   ]
  },
  {
   "cell_type": "code",
   "execution_count": 90,
   "id": "ebe3eb7a",
   "metadata": {},
   "outputs": [],
   "source": [
    "duz, _ = fnk_temizle(\"I12?stan456.bu0l\")\n",
    "\n",
    "# unpacking işlemlerinde _ tek bir değer için, *_ çoklu değer için yer tutucu."
   ]
  },
  {
   "cell_type": "code",
   "execution_count": 91,
   "id": "39d566bf",
   "metadata": {},
   "outputs": [
    {
     "data": {
      "text/plain": [
       "'Istanbul'"
      ]
     },
     "execution_count": 91,
     "metadata": {},
     "output_type": "execute_result"
    }
   ],
   "source": [
    "duz"
   ]
  },
  {
   "cell_type": "code",
   "execution_count": 92,
   "id": "0d1f429b",
   "metadata": {},
   "outputs": [
    {
     "data": {
      "text/plain": [
       "'lubnatsI'"
      ]
     },
     "execution_count": 92,
     "metadata": {},
     "output_type": "execute_result"
    }
   ],
   "source": [
    "_"
   ]
  },
  {
   "cell_type": "code",
   "execution_count": 25,
   "id": "1c9e8735",
   "metadata": {},
   "outputs": [
    {
     "name": "stdout",
     "output_type": "stream",
     "text": [
      "1\n",
      "3\n",
      "21321\n"
     ]
    }
   ],
   "source": [
    "#unpacking işleminde _ tek bir değer için , *_ çoklu değer için yer tutucudur.\n",
    "x,_,y,*_,z = 1,2,3,2,1,3,3,21321\n",
    "'''\n",
    "    x : 1. deger\n",
    "    _ : 1 değer atla\n",
    "    y : 3. deger\n",
    "    z : son değer\n",
    "    *_: aradaki değerleri atla\n",
    "'''\n",
    "print(x,y,z,sep=\"\\n\")"
   ]
  },
  {
   "cell_type": "code",
   "execution_count": 26,
   "id": "53bc3487",
   "metadata": {},
   "outputs": [
    {
     "data": {
      "text/plain": [
       "[2, 1, 3, 3]"
      ]
     },
     "execution_count": 26,
     "metadata": {},
     "output_type": "execute_result"
    }
   ],
   "source": [
    "#en son ne kullanıldıysa onu getirmek için _\n",
    "_"
   ]
  },
  {
   "cell_type": "markdown",
   "id": "c7f7ea86",
   "metadata": {},
   "source": [
    "### Soru5"
   ]
  },
  {
   "cell_type": "code",
   "execution_count": 28,
   "id": "b871349d",
   "metadata": {},
   "outputs": [],
   "source": [
    "'''\n",
    "    Cumhuriyet hangi gün kuruldu.\n",
    "    29 Ekim 1923\n",
    "'''\n",
    "from datetime import datetime, date, time, timedelta"
   ]
  },
  {
   "cell_type": "code",
   "execution_count": 29,
   "id": "314206d5",
   "metadata": {},
   "outputs": [
    {
     "data": {
      "text/plain": [
       "datetime.datetime(1923, 10, 29, 0, 0)"
      ]
     },
     "execution_count": 29,
     "metadata": {},
     "output_type": "execute_result"
    }
   ],
   "source": [
    "datetime.strptime(\"29/10/1923\", \"%d/%m/%Y\") # giriş formatı"
   ]
  },
  {
   "cell_type": "code",
   "execution_count": 30,
   "id": "180051de",
   "metadata": {},
   "outputs": [
    {
     "data": {
      "text/plain": [
       "'Monday'"
      ]
     },
     "execution_count": 30,
     "metadata": {},
     "output_type": "execute_result"
    }
   ],
   "source": [
    "datetime.strptime(\"29/10/1923\", \"%d/%m/%Y\").strftime(\"%A\")\n",
    "#strptime giriş formatı\n",
    "#strftime çıktı formatı"
   ]
  },
  {
   "cell_type": "markdown",
   "id": "95d14b58",
   "metadata": {},
   "source": [
    "### Soru6"
   ]
  },
  {
   "cell_type": "code",
   "execution_count": 39,
   "id": "9147524f",
   "metadata": {},
   "outputs": [],
   "source": [
    "# Sezar şifrelemesi (mesala 3 harf kaydırıyoruz. 3 anahtar)"
   ]
  },
  {
   "cell_type": "code",
   "execution_count": 43,
   "id": "6e9ebaac",
   "metadata": {},
   "outputs": [
    {
     "data": {
      "text/plain": [
       "'a'"
      ]
     },
     "execution_count": 43,
     "metadata": {},
     "output_type": "execute_result"
    }
   ],
   "source": [
    "chr(97) # karakter"
   ]
  },
  {
   "cell_type": "code",
   "execution_count": 45,
   "id": "bda36319",
   "metadata": {},
   "outputs": [
    {
     "data": {
      "text/plain": [
       "97"
      ]
     },
     "execution_count": 45,
     "metadata": {},
     "output_type": "execute_result"
    }
   ],
   "source": [
    "ord('a') # ascii"
   ]
  },
  {
   "cell_type": "code",
   "execution_count": 46,
   "id": "fe982dba",
   "metadata": {},
   "outputs": [
    {
     "data": {
      "text/plain": [
       "'Dkphw'"
      ]
     },
     "execution_count": 46,
     "metadata": {},
     "output_type": "execute_result"
    }
   ],
   "source": [
    "def fnk_sezar(metin, anahtar, sifrelensinMi):\n",
    "    sonuc = \"\"\n",
    "    \n",
    "    for  m in metin:\n",
    "        sonuc += (chr(ord(m)+anahtar)) if sifrelensinMi else (chr(ord(m)-anahtar))\n",
    "        \n",
    "    return sonuc\n",
    "\n",
    "fnk_sezar(\"Ahmet\",3,True)"
   ]
  },
  {
   "cell_type": "code",
   "execution_count": 47,
   "id": "cf629132",
   "metadata": {},
   "outputs": [
    {
     "data": {
      "text/plain": [
       "'Ahmet'"
      ]
     },
     "execution_count": 47,
     "metadata": {},
     "output_type": "execute_result"
    }
   ],
   "source": [
    "fnk_sezar(\"Dkphw\",3,False)"
   ]
  },
  {
   "cell_type": "code",
   "execution_count": 50,
   "id": "1dde96ed",
   "metadata": {},
   "outputs": [
    {
     "data": {
      "text/plain": [
       "'Dkphw'"
      ]
     },
     "execution_count": 50,
     "metadata": {},
     "output_type": "execute_result"
    }
   ],
   "source": [
    "def fnk_sezar(metin, anahtar, sifrelensinMi):\n",
    "    sonuc = \"\"\n",
    "    \n",
    "    for  m in metin:\n",
    "        sonuc += (chr(ord(m)-anahtar), chr(ord(m)+anahtar))[sifrelensinMi]\n",
    "        \n",
    "    return sonuc\n",
    "\n",
    "fnk_sezar(\"Ahmet\",3,True)"
   ]
  },
  {
   "cell_type": "code",
   "execution_count": 51,
   "id": "51c28ec2",
   "metadata": {},
   "outputs": [
    {
     "data": {
      "text/plain": [
       "'Ahmet'"
      ]
     },
     "execution_count": 51,
     "metadata": {},
     "output_type": "execute_result"
    }
   ],
   "source": [
    "fnk_sezar(\"Dkphw\",3,False)"
   ]
  },
  {
   "cell_type": "markdown",
   "id": "1cf8de53",
   "metadata": {},
   "source": [
    "### Soru7"
   ]
  },
  {
   "cell_type": "code",
   "execution_count": 63,
   "id": "ad767d69",
   "metadata": {},
   "outputs": [
    {
     "data": {
      "text/plain": [
       "61.25"
      ]
     },
     "execution_count": 63,
     "metadata": {},
     "output_type": "execute_result"
    }
   ],
   "source": [
    "# cm olarak girilen boy bilgisine bakılarak ideal kilo hesabı yapalım. \n",
    "# Boy bilgisini floata dönüşecek mi diye kontrol edelim.\n",
    "# idealkilo  = boy-100-(boy-150)/4\n",
    "\n",
    "def isFloat(f):\n",
    "    try:\n",
    "        f = float(f)\n",
    "        return True\n",
    "    except:\n",
    "        return False\n",
    "    \n",
    "def fnk_ideal_kilo(cmBoy):\n",
    "    if isFloat(cmBoy):\n",
    "        return cmBoy - 100 - ((cmBoy-150)/4)\n",
    "    else:\n",
    "        return \"Boy cm cinsinden sayısal bir değer olmalıdır.\"\n",
    "    \n",
    "fnk_ideal_kilo(165)"
   ]
  },
  {
   "cell_type": "markdown",
   "id": "9fe6cada",
   "metadata": {},
   "source": [
    "### Soru8"
   ]
  },
  {
   "cell_type": "code",
   "execution_count": 65,
   "id": "b2a51105",
   "metadata": {},
   "outputs": [],
   "source": [
    "'''\n",
    "    Aşağıdaki metni dict'e çevirelim. plaka kodu verildiğinde ili getiren fonksiyonu yazalım\n",
    "'''\n",
    "\n",
    "plakaKodlar=\"\"\"\n",
    "İstanbul 34\n",
    "Ankara 06\n",
    "\n",
    "Adana 01\n",
    "Çorum 19\n",
    "Sakarya 54\n",
    "\"\"\""
   ]
  },
  {
   "cell_type": "code",
   "execution_count": 71,
   "id": "229eef66",
   "metadata": {},
   "outputs": [
    {
     "data": {
      "text/plain": [
       "['İstanbul',\n",
       " '34',\n",
       " 'Ankara',\n",
       " '06',\n",
       " 'Adana',\n",
       " '01',\n",
       " 'Çorum',\n",
       " '19',\n",
       " 'Sakarya',\n",
       " '54']"
      ]
     },
     "execution_count": 71,
     "metadata": {},
     "output_type": "execute_result"
    }
   ],
   "source": [
    "plakaKodlar.split()"
   ]
  },
  {
   "cell_type": "code",
   "execution_count": 77,
   "id": "ae4bee82",
   "metadata": {},
   "outputs": [],
   "source": [
    "plakaListesi = [p.split(\" \")[::-1] for p in plakaKodlar.splitlines() if p] \n",
    "# 0 ve yokluk (None, boş liste, tuple vs.) False olarak değerlendirilir."
   ]
  },
  {
   "cell_type": "code",
   "execution_count": 76,
   "id": "1fc4d8fe",
   "metadata": {},
   "outputs": [
    {
     "data": {
      "text/plain": [
       "[['34', 'İstanbul'],\n",
       " ['06', 'Ankara'],\n",
       " ['01', 'Adana'],\n",
       " ['19', 'Çorum'],\n",
       " ['54', 'Sakarya']]"
      ]
     },
     "execution_count": 76,
     "metadata": {},
     "output_type": "execute_result"
    }
   ],
   "source": [
    "plakaListesi"
   ]
  },
  {
   "cell_type": "code",
   "execution_count": 78,
   "id": "3c263a86",
   "metadata": {},
   "outputs": [],
   "source": [
    "dict_plakalar = dict(plakaListesi)"
   ]
  },
  {
   "cell_type": "code",
   "execution_count": 79,
   "id": "7d348508",
   "metadata": {},
   "outputs": [
    {
     "data": {
      "text/plain": [
       "{'34': 'İstanbul',\n",
       " '06': 'Ankara',\n",
       " '01': 'Adana',\n",
       " '19': 'Çorum',\n",
       " '54': 'Sakarya'}"
      ]
     },
     "execution_count": 79,
     "metadata": {},
     "output_type": "execute_result"
    }
   ],
   "source": [
    "dict_plakalar"
   ]
  },
  {
   "cell_type": "code",
   "execution_count": 80,
   "id": "b9af692d",
   "metadata": {},
   "outputs": [
    {
     "data": {
      "text/plain": [
       "'İstanbul'"
      ]
     },
     "execution_count": 80,
     "metadata": {},
     "output_type": "execute_result"
    }
   ],
   "source": [
    "def fnk_plaka_getir(plaka):\n",
    "    plakaListesi = [p.split(\" \")[::-1] for p in plakaKodlar.splitlines() if p] \n",
    "    dict_plakalar = dict(plakaListesi)\n",
    "    cagri = dict_plakalar.get(plaka) # varsa gelir yoksa None gelir\n",
    "    \n",
    "    return cagri if cagri else \"Bu plaka tanımlı değil\"\n",
    "\n",
    "fnk_plaka_getir(\"34\")"
   ]
  },
  {
   "cell_type": "code",
   "execution_count": 81,
   "id": "93e79031",
   "metadata": {},
   "outputs": [
    {
     "data": {
      "text/plain": [
       "'Bu plaka tanımlı değil'"
      ]
     },
     "execution_count": 81,
     "metadata": {},
     "output_type": "execute_result"
    }
   ],
   "source": [
    "fnk_plaka_getir(\"41\")"
   ]
  },
  {
   "cell_type": "code",
   "execution_count": null,
   "id": "88057c69",
   "metadata": {},
   "outputs": [],
   "source": []
  }
 ],
 "metadata": {
  "kernelspec": {
   "display_name": "Python 3 (ipykernel)",
   "language": "python",
   "name": "python3"
  },
  "language_info": {
   "codemirror_mode": {
    "name": "ipython",
    "version": 3
   },
   "file_extension": ".py",
   "mimetype": "text/x-python",
   "name": "python",
   "nbconvert_exporter": "python",
   "pygments_lexer": "ipython3",
   "version": "3.9.5"
  }
 },
 "nbformat": 4,
 "nbformat_minor": 5
}
